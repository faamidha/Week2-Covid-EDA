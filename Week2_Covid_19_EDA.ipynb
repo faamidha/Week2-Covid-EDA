{
  "nbformat": 4,
  "nbformat_minor": 0,
  "metadata": {
    "colab": {
      "provenance": []
    },
    "kernelspec": {
      "name": "python3",
      "display_name": "Python 3"
    },
    "language_info": {
      "name": "python"
    }
  },
  "cells": [
    {
      "cell_type": "markdown",
      "source": [
        "\n",
        "# Step 1: Load the Dataset\n",
        "We begin by uploading and loading the \"Covid-19\" dataset using pandas. This dataset contains the following columns Date,Country,Confirmed,Recovered,Deaths."
      ],
      "metadata": {
        "id": "Y70GXY8D0VHT"
      }
    },
    {
      "cell_type": "code",
      "execution_count": 1,
      "metadata": {
        "colab": {
          "base_uri": "https://localhost:8080/",
          "height": 73
        },
        "id": "ZJ7n-ZOinhzC",
        "outputId": "155818d4-70d3-478f-ddcf-287351f43221"
      },
      "outputs": [
        {
          "output_type": "display_data",
          "data": {
            "text/plain": [
              "<IPython.core.display.HTML object>"
            ],
            "text/html": [
              "\n",
              "     <input type=\"file\" id=\"files-fb830636-abc6-4b73-90cf-a35ecd1dcc9b\" name=\"files[]\" multiple disabled\n",
              "        style=\"border:none\" />\n",
              "     <output id=\"result-fb830636-abc6-4b73-90cf-a35ecd1dcc9b\">\n",
              "      Upload widget is only available when the cell has been executed in the\n",
              "      current browser session. Please rerun this cell to enable.\n",
              "      </output>\n",
              "      <script>// Copyright 2017 Google LLC\n",
              "//\n",
              "// Licensed under the Apache License, Version 2.0 (the \"License\");\n",
              "// you may not use this file except in compliance with the License.\n",
              "// You may obtain a copy of the License at\n",
              "//\n",
              "//      http://www.apache.org/licenses/LICENSE-2.0\n",
              "//\n",
              "// Unless required by applicable law or agreed to in writing, software\n",
              "// distributed under the License is distributed on an \"AS IS\" BASIS,\n",
              "// WITHOUT WARRANTIES OR CONDITIONS OF ANY KIND, either express or implied.\n",
              "// See the License for the specific language governing permissions and\n",
              "// limitations under the License.\n",
              "\n",
              "/**\n",
              " * @fileoverview Helpers for google.colab Python module.\n",
              " */\n",
              "(function(scope) {\n",
              "function span(text, styleAttributes = {}) {\n",
              "  const element = document.createElement('span');\n",
              "  element.textContent = text;\n",
              "  for (const key of Object.keys(styleAttributes)) {\n",
              "    element.style[key] = styleAttributes[key];\n",
              "  }\n",
              "  return element;\n",
              "}\n",
              "\n",
              "// Max number of bytes which will be uploaded at a time.\n",
              "const MAX_PAYLOAD_SIZE = 100 * 1024;\n",
              "\n",
              "function _uploadFiles(inputId, outputId) {\n",
              "  const steps = uploadFilesStep(inputId, outputId);\n",
              "  const outputElement = document.getElementById(outputId);\n",
              "  // Cache steps on the outputElement to make it available for the next call\n",
              "  // to uploadFilesContinue from Python.\n",
              "  outputElement.steps = steps;\n",
              "\n",
              "  return _uploadFilesContinue(outputId);\n",
              "}\n",
              "\n",
              "// This is roughly an async generator (not supported in the browser yet),\n",
              "// where there are multiple asynchronous steps and the Python side is going\n",
              "// to poll for completion of each step.\n",
              "// This uses a Promise to block the python side on completion of each step,\n",
              "// then passes the result of the previous step as the input to the next step.\n",
              "function _uploadFilesContinue(outputId) {\n",
              "  const outputElement = document.getElementById(outputId);\n",
              "  const steps = outputElement.steps;\n",
              "\n",
              "  const next = steps.next(outputElement.lastPromiseValue);\n",
              "  return Promise.resolve(next.value.promise).then((value) => {\n",
              "    // Cache the last promise value to make it available to the next\n",
              "    // step of the generator.\n",
              "    outputElement.lastPromiseValue = value;\n",
              "    return next.value.response;\n",
              "  });\n",
              "}\n",
              "\n",
              "/**\n",
              " * Generator function which is called between each async step of the upload\n",
              " * process.\n",
              " * @param {string} inputId Element ID of the input file picker element.\n",
              " * @param {string} outputId Element ID of the output display.\n",
              " * @return {!Iterable<!Object>} Iterable of next steps.\n",
              " */\n",
              "function* uploadFilesStep(inputId, outputId) {\n",
              "  const inputElement = document.getElementById(inputId);\n",
              "  inputElement.disabled = false;\n",
              "\n",
              "  const outputElement = document.getElementById(outputId);\n",
              "  outputElement.innerHTML = '';\n",
              "\n",
              "  const pickedPromise = new Promise((resolve) => {\n",
              "    inputElement.addEventListener('change', (e) => {\n",
              "      resolve(e.target.files);\n",
              "    });\n",
              "  });\n",
              "\n",
              "  const cancel = document.createElement('button');\n",
              "  inputElement.parentElement.appendChild(cancel);\n",
              "  cancel.textContent = 'Cancel upload';\n",
              "  const cancelPromise = new Promise((resolve) => {\n",
              "    cancel.onclick = () => {\n",
              "      resolve(null);\n",
              "    };\n",
              "  });\n",
              "\n",
              "  // Wait for the user to pick the files.\n",
              "  const files = yield {\n",
              "    promise: Promise.race([pickedPromise, cancelPromise]),\n",
              "    response: {\n",
              "      action: 'starting',\n",
              "    }\n",
              "  };\n",
              "\n",
              "  cancel.remove();\n",
              "\n",
              "  // Disable the input element since further picks are not allowed.\n",
              "  inputElement.disabled = true;\n",
              "\n",
              "  if (!files) {\n",
              "    return {\n",
              "      response: {\n",
              "        action: 'complete',\n",
              "      }\n",
              "    };\n",
              "  }\n",
              "\n",
              "  for (const file of files) {\n",
              "    const li = document.createElement('li');\n",
              "    li.append(span(file.name, {fontWeight: 'bold'}));\n",
              "    li.append(span(\n",
              "        `(${file.type || 'n/a'}) - ${file.size} bytes, ` +\n",
              "        `last modified: ${\n",
              "            file.lastModifiedDate ? file.lastModifiedDate.toLocaleDateString() :\n",
              "                                    'n/a'} - `));\n",
              "    const percent = span('0% done');\n",
              "    li.appendChild(percent);\n",
              "\n",
              "    outputElement.appendChild(li);\n",
              "\n",
              "    const fileDataPromise = new Promise((resolve) => {\n",
              "      const reader = new FileReader();\n",
              "      reader.onload = (e) => {\n",
              "        resolve(e.target.result);\n",
              "      };\n",
              "      reader.readAsArrayBuffer(file);\n",
              "    });\n",
              "    // Wait for the data to be ready.\n",
              "    let fileData = yield {\n",
              "      promise: fileDataPromise,\n",
              "      response: {\n",
              "        action: 'continue',\n",
              "      }\n",
              "    };\n",
              "\n",
              "    // Use a chunked sending to avoid message size limits. See b/62115660.\n",
              "    let position = 0;\n",
              "    do {\n",
              "      const length = Math.min(fileData.byteLength - position, MAX_PAYLOAD_SIZE);\n",
              "      const chunk = new Uint8Array(fileData, position, length);\n",
              "      position += length;\n",
              "\n",
              "      const base64 = btoa(String.fromCharCode.apply(null, chunk));\n",
              "      yield {\n",
              "        response: {\n",
              "          action: 'append',\n",
              "          file: file.name,\n",
              "          data: base64,\n",
              "        },\n",
              "      };\n",
              "\n",
              "      let percentDone = fileData.byteLength === 0 ?\n",
              "          100 :\n",
              "          Math.round((position / fileData.byteLength) * 100);\n",
              "      percent.textContent = `${percentDone}% done`;\n",
              "\n",
              "    } while (position < fileData.byteLength);\n",
              "  }\n",
              "\n",
              "  // All done.\n",
              "  yield {\n",
              "    response: {\n",
              "      action: 'complete',\n",
              "    }\n",
              "  };\n",
              "}\n",
              "\n",
              "scope.google = scope.google || {};\n",
              "scope.google.colab = scope.google.colab || {};\n",
              "scope.google.colab._files = {\n",
              "  _uploadFiles,\n",
              "  _uploadFilesContinue,\n",
              "};\n",
              "})(self);\n",
              "</script> "
            ]
          },
          "metadata": {}
        },
        {
          "output_type": "stream",
          "name": "stdout",
          "text": [
            "Saving covid_data.csv to covid_data.csv\n"
          ]
        }
      ],
      "source": [
        "from google.colab import files\n",
        "uploaded = files.upload()\n"
      ]
    },
    {
      "cell_type": "markdown",
      "source": [
        "##Step 2: Import the necessary Libraries\n",
        "we begin by importing the libraruies required for exploratory data analysis like pandas,matplotlib and seaborn."
      ],
      "metadata": {
        "id": "ooYf08AZ1QQx"
      }
    },
    {
      "cell_type": "code",
      "source": [
        "import pandas as pd\n",
        "import matplotlib.pyplot as plt\n",
        "import seaborn as sns\n"
      ],
      "metadata": {
        "id": "GjlZbf9HwHvJ"
      },
      "execution_count": 2,
      "outputs": []
    },
    {
      "cell_type": "code",
      "source": [
        "df = pd.read_csv('covid_data.csv')\n"
      ],
      "metadata": {
        "id": "kg21qZjvwNK4"
      },
      "execution_count": 3,
      "outputs": []
    },
    {
      "cell_type": "markdown",
      "source": [
        "##Step 3: Understanding the dataset\n",
        "Let's understand the structure and content of the dataset using info(),head() and describe().This helps us check data types,missing values,and statistical summaries.\n"
      ],
      "metadata": {
        "id": "B6zhm9u42REV"
      }
    },
    {
      "cell_type": "code",
      "source": [
        "print(df.head())"
      ],
      "metadata": {
        "colab": {
          "base_uri": "https://localhost:8080/"
        },
        "id": "PlTvqRl0wUFa",
        "outputId": "e54be303-dec0-4c71-ef55-d435eefaa764"
      },
      "execution_count": 4,
      "outputs": [
        {
          "output_type": "stream",
          "name": "stdout",
          "text": [
            "  Country/Region  Confirmed  Deaths  Recovered  Active  New cases  New deaths  \\\n",
            "0    Afghanistan      36263    1269      25198    9796        106          10   \n",
            "1        Albania       4880     144       2745    1991        117           6   \n",
            "2        Algeria      27973    1163      18837    7973        616           8   \n",
            "3        Andorra        907      52        803      52         10           0   \n",
            "4         Angola        950      41        242     667         18           1   \n",
            "\n",
            "   New recovered  Deaths / 100 Cases  Recovered / 100 Cases  \\\n",
            "0             18                3.50                  69.49   \n",
            "1             63                2.95                  56.25   \n",
            "2            749                4.16                  67.34   \n",
            "3              0                5.73                  88.53   \n",
            "4              0                4.32                  25.47   \n",
            "\n",
            "   Deaths / 100 Recovered  Confirmed last week  1 week change  \\\n",
            "0                    5.04                35526            737   \n",
            "1                    5.25                 4171            709   \n",
            "2                    6.17                23691           4282   \n",
            "3                    6.48                  884             23   \n",
            "4                   16.94                  749            201   \n",
            "\n",
            "   1 week % increase             WHO Region  \n",
            "0               2.07  Eastern Mediterranean  \n",
            "1              17.00                 Europe  \n",
            "2              18.07                 Africa  \n",
            "3               2.60                 Europe  \n",
            "4              26.84                 Africa  \n"
          ]
        }
      ]
    },
    {
      "cell_type": "code",
      "source": [
        "print(df.info())\n"
      ],
      "metadata": {
        "colab": {
          "base_uri": "https://localhost:8080/"
        },
        "id": "44h_y7vSwf-J",
        "outputId": "804baf1f-7b49-4675-ead9-10de61c2b235"
      },
      "execution_count": 5,
      "outputs": [
        {
          "output_type": "stream",
          "name": "stdout",
          "text": [
            "<class 'pandas.core.frame.DataFrame'>\n",
            "RangeIndex: 187 entries, 0 to 186\n",
            "Data columns (total 15 columns):\n",
            " #   Column                  Non-Null Count  Dtype  \n",
            "---  ------                  --------------  -----  \n",
            " 0   Country/Region          187 non-null    object \n",
            " 1   Confirmed               187 non-null    int64  \n",
            " 2   Deaths                  187 non-null    int64  \n",
            " 3   Recovered               187 non-null    int64  \n",
            " 4   Active                  187 non-null    int64  \n",
            " 5   New cases               187 non-null    int64  \n",
            " 6   New deaths              187 non-null    int64  \n",
            " 7   New recovered           187 non-null    int64  \n",
            " 8   Deaths / 100 Cases      187 non-null    float64\n",
            " 9   Recovered / 100 Cases   187 non-null    float64\n",
            " 10  Deaths / 100 Recovered  187 non-null    float64\n",
            " 11  Confirmed last week     187 non-null    int64  \n",
            " 12  1 week change           187 non-null    int64  \n",
            " 13  1 week % increase       187 non-null    float64\n",
            " 14  WHO Region              187 non-null    object \n",
            "dtypes: float64(4), int64(9), object(2)\n",
            "memory usage: 22.0+ KB\n",
            "None\n"
          ]
        }
      ]
    },
    {
      "cell_type": "code",
      "source": [
        "print(df.describe())"
      ],
      "metadata": {
        "colab": {
          "base_uri": "https://localhost:8080/"
        },
        "id": "y41wQyb4wlEk",
        "outputId": "306cce4c-53b5-41a5-93de-f3f633ff79e7"
      },
      "execution_count": 6,
      "outputs": [
        {
          "output_type": "stream",
          "name": "stdout",
          "text": [
            "          Confirmed         Deaths     Recovered        Active     New cases  \\\n",
            "count  1.870000e+02     187.000000  1.870000e+02  1.870000e+02    187.000000   \n",
            "mean   8.813094e+04    3497.518717  5.063148e+04  3.400194e+04   1222.957219   \n",
            "std    3.833187e+05   14100.002482  1.901882e+05  2.133262e+05   5710.374790   \n",
            "min    1.000000e+01       0.000000  0.000000e+00  0.000000e+00      0.000000   \n",
            "25%    1.114000e+03      18.500000  6.265000e+02  1.415000e+02      4.000000   \n",
            "50%    5.059000e+03     108.000000  2.815000e+03  1.600000e+03     49.000000   \n",
            "75%    4.046050e+04     734.000000  2.260600e+04  9.149000e+03    419.500000   \n",
            "max    4.290259e+06  148011.000000  1.846641e+06  2.816444e+06  56336.000000   \n",
            "\n",
            "        New deaths  New recovered  Deaths / 100 Cases  Recovered / 100 Cases  \\\n",
            "count   187.000000     187.000000          187.000000             187.000000   \n",
            "mean     28.957219     933.812834            3.019519              64.820535   \n",
            "std     120.037173    4197.719635            3.454302              26.287694   \n",
            "min       0.000000       0.000000            0.000000               0.000000   \n",
            "25%       0.000000       0.000000            0.945000              48.770000   \n",
            "50%       1.000000      22.000000            2.150000              71.320000   \n",
            "75%       6.000000     221.000000            3.875000              86.885000   \n",
            "max    1076.000000   33728.000000           28.560000             100.000000   \n",
            "\n",
            "       Deaths / 100 Recovered  Confirmed last week  1 week change  \\\n",
            "count                  187.00         1.870000e+02     187.000000   \n",
            "mean                      inf         7.868248e+04    9448.459893   \n",
            "std                       NaN         3.382737e+05   47491.127684   \n",
            "min                      0.00         1.000000e+01     -47.000000   \n",
            "25%                      1.45         1.051500e+03      49.000000   \n",
            "50%                      3.62         5.020000e+03     432.000000   \n",
            "75%                      6.44         3.708050e+04    3172.000000   \n",
            "max                       inf         3.834677e+06  455582.000000   \n",
            "\n",
            "       1 week % increase  \n",
            "count         187.000000  \n",
            "mean           13.606203  \n",
            "std            24.509838  \n",
            "min            -3.840000  \n",
            "25%             2.775000  \n",
            "50%             6.890000  \n",
            "75%            16.855000  \n",
            "max           226.320000  \n"
          ]
        }
      ]
    },
    {
      "cell_type": "markdown",
      "source": [
        "##Step 4: clean the data\n",
        "Clean the data and check for null values and duplicates using isnull() and duplicated() and remove duplicates and null values from the dataset to make it more suitable for analysis"
      ],
      "metadata": {
        "id": "RJCyuybK3Cjg"
      }
    },
    {
      "cell_type": "code",
      "source": [
        "print(df.isnull().sum())"
      ],
      "metadata": {
        "colab": {
          "base_uri": "https://localhost:8080/"
        },
        "id": "x6_BKdopwqP-",
        "outputId": "d2c20d18-759d-4970-9b33-947bed5cd252"
      },
      "execution_count": 7,
      "outputs": [
        {
          "output_type": "stream",
          "name": "stdout",
          "text": [
            "Country/Region            0\n",
            "Confirmed                 0\n",
            "Deaths                    0\n",
            "Recovered                 0\n",
            "Active                    0\n",
            "New cases                 0\n",
            "New deaths                0\n",
            "New recovered             0\n",
            "Deaths / 100 Cases        0\n",
            "Recovered / 100 Cases     0\n",
            "Deaths / 100 Recovered    0\n",
            "Confirmed last week       0\n",
            "1 week change             0\n",
            "1 week % increase         0\n",
            "WHO Region                0\n",
            "dtype: int64\n"
          ]
        }
      ]
    },
    {
      "cell_type": "code",
      "source": [
        "print(df.duplicated().sum())\n"
      ],
      "metadata": {
        "colab": {
          "base_uri": "https://localhost:8080/"
        },
        "id": "GqOu7tliwu5R",
        "outputId": "e6e64d36-f980-40a9-a00b-b0ed5e1c212e"
      },
      "execution_count": 8,
      "outputs": [
        {
          "output_type": "stream",
          "name": "stdout",
          "text": [
            "0\n"
          ]
        }
      ]
    },
    {
      "cell_type": "code",
      "source": [
        "# Remove duplicates\n",
        "df = df.drop_duplicates()\n",
        "\n",
        "# Fill or drop missing values\n",
        "df = df.dropna()  # Or use df.fillna(0) if appropriate\n"
      ],
      "metadata": {
        "id": "Vyz8gxrGwyAI"
      },
      "execution_count": 9,
      "outputs": []
    },
    {
      "cell_type": "markdown",
      "source": [
        "##Step 5: Basic EDA\n",
        "Perform basic Exploratory data analysis by\n",
        "Showing top 5 rows,\n",
        "Summary statistics,\n",
        "Number of countries in the data and\n",
        "Most affected countries"
      ],
      "metadata": {
        "id": "LxORIMUd3jYn"
      }
    },
    {
      "cell_type": "code",
      "source": [
        "# Number of countries in India\n",
        "print(\"Number of unique countries:\", df['Country/Region'].nunique())\n"
      ],
      "metadata": {
        "colab": {
          "base_uri": "https://localhost:8080/"
        },
        "id": "GeIsnvVzw2YQ",
        "outputId": "79c7abc4-3605-4bb7-c28b-7e804da3b9dd"
      },
      "execution_count": 20,
      "outputs": [
        {
          "output_type": "stream",
          "name": "stdout",
          "text": [
            "Number of unique countries: 187\n"
          ]
        }
      ]
    },
    {
      "cell_type": "code",
      "source": [
        "# Top countries in the data\n",
        "top_countries = df.groupby('Country/Region')['Confirmed'].sum().sort_values(ascending=False).head(10)\n",
        "print(top_countries)\n"
      ],
      "metadata": {
        "colab": {
          "base_uri": "https://localhost:8080/"
        },
        "id": "2VDgs2BjxBb3",
        "outputId": "4ce65567-850a-4e53-d9bf-cbd152a4bef3"
      },
      "execution_count": 23,
      "outputs": [
        {
          "output_type": "stream",
          "name": "stdout",
          "text": [
            "Country/Region\n",
            "US                4290259\n",
            "Brazil            2442375\n",
            "India             1480073\n",
            "Russia             816680\n",
            "South Africa       452529\n",
            "Mexico             395489\n",
            "Peru               389717\n",
            "Chile              347923\n",
            "United Kingdom     301708\n",
            "Iran               293606\n",
            "Name: Confirmed, dtype: int64\n"
          ]
        }
      ]
    },
    {
      "cell_type": "code",
      "source": [
        "# Summary statistics\n",
        "print(\"--- Summary Statistics ---\")\n",
        "print(df.describe())\n",
        "print(\"\\n\" + \"=\"*50 + \"\\n\")"
      ],
      "metadata": {
        "colab": {
          "base_uri": "https://localhost:8080/"
        },
        "id": "iClEbleu5Ozo",
        "outputId": "43a2a799-954d-47b2-9811-d31e38d85112"
      },
      "execution_count": 24,
      "outputs": [
        {
          "output_type": "stream",
          "name": "stdout",
          "text": [
            "--- Summary Statistics ---\n",
            "          Confirmed         Deaths     Recovered        Active     New cases  \\\n",
            "count  1.870000e+02     187.000000  1.870000e+02  1.870000e+02    187.000000   \n",
            "mean   8.813094e+04    3497.518717  5.063148e+04  3.400194e+04   1222.957219   \n",
            "std    3.833187e+05   14100.002482  1.901882e+05  2.133262e+05   5710.374790   \n",
            "min    1.000000e+01       0.000000  0.000000e+00  0.000000e+00      0.000000   \n",
            "25%    1.114000e+03      18.500000  6.265000e+02  1.415000e+02      4.000000   \n",
            "50%    5.059000e+03     108.000000  2.815000e+03  1.600000e+03     49.000000   \n",
            "75%    4.046050e+04     734.000000  2.260600e+04  9.149000e+03    419.500000   \n",
            "max    4.290259e+06  148011.000000  1.846641e+06  2.816444e+06  56336.000000   \n",
            "\n",
            "        New deaths  New recovered  Deaths / 100 Cases  Recovered / 100 Cases  \\\n",
            "count   187.000000     187.000000          187.000000             187.000000   \n",
            "mean     28.957219     933.812834            3.019519              64.820535   \n",
            "std     120.037173    4197.719635            3.454302              26.287694   \n",
            "min       0.000000       0.000000            0.000000               0.000000   \n",
            "25%       0.000000       0.000000            0.945000              48.770000   \n",
            "50%       1.000000      22.000000            2.150000              71.320000   \n",
            "75%       6.000000     221.000000            3.875000              86.885000   \n",
            "max    1076.000000   33728.000000           28.560000             100.000000   \n",
            "\n",
            "       Deaths / 100 Recovered  Confirmed last week  1 week change  \\\n",
            "count                  187.00         1.870000e+02     187.000000   \n",
            "mean                      inf         7.868248e+04    9448.459893   \n",
            "std                       NaN         3.382737e+05   47491.127684   \n",
            "min                      0.00         1.000000e+01     -47.000000   \n",
            "25%                      1.45         1.051500e+03      49.000000   \n",
            "50%                      3.62         5.020000e+03     432.000000   \n",
            "75%                      6.44         3.708050e+04    3172.000000   \n",
            "max                       inf         3.834677e+06  455582.000000   \n",
            "\n",
            "       1 week % increase  \n",
            "count         187.000000  \n",
            "mean           13.606203  \n",
            "std            24.509838  \n",
            "min            -3.840000  \n",
            "25%             2.775000  \n",
            "50%             6.890000  \n",
            "75%            16.855000  \n",
            "max           226.320000  \n",
            "\n",
            "==================================================\n",
            "\n"
          ]
        }
      ]
    },
    {
      "cell_type": "code",
      "source": [
        "# Most affected countries (Top 5 by Confirmed Cases)\n",
        "\n",
        "most_affected_countries = df.groupby('Country/Region')['Confirmed'].sum().sort_values(ascending=False).head(5)\n",
        "print(\"--- Top 5 Most Affected Countries (Confirmed Cases) ---\")\n",
        "print(most_affected_countries)"
      ],
      "metadata": {
        "colab": {
          "base_uri": "https://localhost:8080/"
        },
        "id": "Dy94TDBB5YYe",
        "outputId": "2b69a83e-00a8-43f1-d8af-1fbcfa7fcba4"
      },
      "execution_count": 25,
      "outputs": [
        {
          "output_type": "stream",
          "name": "stdout",
          "text": [
            "--- Top 5 Most Affected Countries (Confirmed Cases) ---\n",
            "Country/Region\n",
            "US              4290259\n",
            "Brazil          2442375\n",
            "India           1480073\n",
            "Russia           816680\n",
            "South Africa     452529\n",
            "Name: Confirmed, dtype: int64\n"
          ]
        }
      ]
    },
    {
      "cell_type": "code",
      "source": [
        "#  Show top 5 rows\n",
        "print(\"--- Top 5 Rows ---\")\n",
        "print(df.head())\n",
        "print(\"\\n\" + \"=\"*50 + \"\\n\")"
      ],
      "metadata": {
        "colab": {
          "base_uri": "https://localhost:8080/"
        },
        "id": "GYK_8iNE5i5J",
        "outputId": "66578943-f535-42fc-cbb7-55625d35daf4"
      },
      "execution_count": 26,
      "outputs": [
        {
          "output_type": "stream",
          "name": "stdout",
          "text": [
            "--- Top 5 Rows ---\n",
            "  Country/Region  Confirmed  Deaths  Recovered  Active  New cases  New deaths  \\\n",
            "0    Afghanistan      36263    1269      25198    9796        106          10   \n",
            "1        Albania       4880     144       2745    1991        117           6   \n",
            "2        Algeria      27973    1163      18837    7973        616           8   \n",
            "3        Andorra        907      52        803      52         10           0   \n",
            "4         Angola        950      41        242     667         18           1   \n",
            "\n",
            "   New recovered  Deaths / 100 Cases  Recovered / 100 Cases  \\\n",
            "0             18                3.50                  69.49   \n",
            "1             63                2.95                  56.25   \n",
            "2            749                4.16                  67.34   \n",
            "3              0                5.73                  88.53   \n",
            "4              0                4.32                  25.47   \n",
            "\n",
            "   Deaths / 100 Recovered  Confirmed last week  1 week change  \\\n",
            "0                    5.04                35526            737   \n",
            "1                    5.25                 4171            709   \n",
            "2                    6.17                23691           4282   \n",
            "3                    6.48                  884             23   \n",
            "4                   16.94                  749            201   \n",
            "\n",
            "   1 week % increase             WHO Region  \n",
            "0               2.07  Eastern Mediterranean  \n",
            "1              17.00                 Europe  \n",
            "2              18.07                 Africa  \n",
            "3               2.60                 Europe  \n",
            "4              26.84                 Africa  \n",
            "\n",
            "==================================================\n",
            "\n"
          ]
        }
      ]
    },
    {
      "cell_type": "markdown",
      "source": [
        "##Step 6: Visualize the data in a dataset\n",
        "We will visualize the dataset using Line chart, Bar chart and pie chart for confirmed cases,showing top countries with highest deaths and pie chart for showing gobal recovered versus deaths\n"
      ],
      "metadata": {
        "id": "wjWfiToq5vKD"
      }
    },
    {
      "cell_type": "code",
      "source": [
        "# Line chart - Confirmed cases over time\n",
        "import matplotlib.pyplot as plt\n",
        "import pandas as pd\n",
        "\n",
        "# Sum confirmed cases per day (without using Date for x-axis)\n",
        "global_daily = df.groupby(df.index)['Confirmed'].sum().reset_index()\n",
        "\n",
        "plt.figure(figsize=(12,6))\n",
        "plt.plot(global_daily.index, global_daily['Confirmed'])\n",
        "plt.title('Global Confirmed COVID-19 Cases Over Time')\n",
        "plt.xlabel('Day Number')\n",
        "plt.ylabel('Confirmed Cases')\n",
        "plt.xticks(rotation=45)\n",
        "plt.tight_layout()\n",
        "plt.show()\n",
        "\n"
      ],
      "metadata": {
        "colab": {
          "base_uri": "https://localhost:8080/",
          "height": 607
        },
        "id": "DlsPgDCnxJJ9",
        "outputId": "40296106-c940-4f60-f330-d313c56e7324"
      },
      "execution_count": 27,
      "outputs": [
        {
          "output_type": "display_data",
          "data": {
            "text/plain": [
              "<Figure size 1200x600 with 1 Axes>"
            ],
            "image/png": "[encoded data removed]"
          },
          "metadata": {}
        }
      ]
    },
    {
      "cell_type": "code",
      "source": [
        "# Bar chart - Top 10 countries with highest deaths\n",
        "top_deaths = df.groupby('Country/Region')['Deaths'].sum().sort_values(ascending=False).head(10)\n",
        "\n",
        "plt.figure(figsize=(10,6))\n",
        "sns.barplot(x=top_deaths.values, y=top_deaths.index)\n",
        "plt.title('Top 10 Countries by Total Deaths')\n",
        "plt.xlabel('Total Deaths')\n",
        "plt.ylabel('Country/Region')\n",
        "plt.tight_layout()\n",
        "plt.show()\n"
      ],
      "metadata": {
        "colab": {
          "base_uri": "https://localhost:8080/",
          "height": 607
        },
        "id": "iS0Tp8BTxkou",
        "outputId": "0e7ffa02-c5ae-4300-c985-3c604af4975b"
      },
      "execution_count": 28,
      "outputs": [
        {
          "output_type": "display_data",
          "data": {
            "text/plain": [
              "<Figure size 1000x600 with 1 Axes>"
            ],
            "image/png": "[encoded data removed]"
          },
          "metadata": {}
        }
      ]
    },
    {
      "cell_type": "code",
      "source": [
        "# Pie chart of Global recovered vs Deaths\n",
        "total_recovered = df['Recovered'].sum()\n",
        "total_deaths = df['Deaths'].sum()\n",
        "\n",
        "labels = ['Recovered', 'Deaths']\n",
        "sizes = [total_recovered, total_deaths]\n",
        "\n",
        "plt.figure(figsize=(6,6))\n",
        "plt.pie(sizes, labels=labels, autopct='%1.1f%%', startangle=90)\n",
        "plt.title('Global Recovered vs Deaths')\n",
        "plt.axis('equal')\n",
        "plt.show()\n"
      ],
      "metadata": {
        "colab": {
          "base_uri": "https://localhost:8080/",
          "height": 525
        },
        "id": "CIpsIA-XxwP9",
        "outputId": "78cd187f-7f38-4c81-ce7f-cefddc83a62f"
      },
      "execution_count": 29,
      "outputs": [
        {
          "output_type": "display_data",
          "data": {
            "text/plain": [
              "<Figure size 600x600 with 1 Axes>"
            ],
            "image/png": "[encoded data removed]"
          },
          "metadata": {}
        }
      ]
    },
    {
      "cell_type": "markdown",
      "source": [
        "##OBSERVATIONS\n",
        "## Global Confirmed Cases\n",
        "- Confirmed cases show a steady rising trend globally over time.\n",
        "- Surges in the curve may correspond to different waves of the pandemic.\n",
        "- Countries with higher populations or lower restrictions show sharper increases.\n",
        "\n",
        "## Global Recovered Cases\n",
        "- Recovered cases are rising steadily, often outpacing deaths.\n",
        "- Indicates that treatment and management of COVID-19 are improving.\n",
        "- Recovery trends provide hope despite ongoing case surges.\n",
        "\n",
        "## Global Deaths\n",
        "- Deaths increase at a slower rate than confirmed cases and recoveries.\n",
        "- Peaks in deaths usually follow spikes in confirmed cases with a lag.\n",
        "- Mortality trends highlight the impact of healthcare responses and vaccination.\n",
        "\n",
        "## Country-wise Comparison (Top Affected)\n",
        "- The USA,Brazil and India consistently report high case numbers.\n",
        "- Some countries show faster recovery trends relative to confirmed cases.\n",
        "- Country comparisons emphasize the uneven global impact of COVID-19.\n",
        "\n",
        "## Overall Insights\n",
        "- The pandemic shows a global upward trend in cases but also increasing recoveries.\n",
        "- Continuous monitoring, vaccinations, and public health measures remain crucial.\n",
        "- Data highlights progress in managing the virus, yet vigilance is still needed.\n"
      ],
      "metadata": {
        "id": "psbiI_Hj8RBk"
      }
    }
  ]
}